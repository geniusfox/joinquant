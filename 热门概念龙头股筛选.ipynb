{
 "cells": [
  {
   "cell_type": "code",
   "execution_count": null,
   "metadata": {},
   "outputs": [],
   "source": [
    "from jqdata import *\n",
    "import pandas as pd\n",
    "import re\n",
    "# ... existing code ...\n",
    "\n",
    "df = get_concepts()\n",
    "fashion_concepts = []\n",
    "for code, row in df.iterrows():\n",
    "    # 假设 start_date 是字符串格式\n",
    "    #if str(row['start_date']).startswith('2025'):\n",
    "    if re.match(r'^(2024|2025)', str(row['start_date'])):\n",
    "        continue\n",
    "    # 过滤 name 包含\"预增\"的\n",
    "    if re.search(r'预增', str(row['name'])):\n",
    "        continue\n",
    "    fashion_concepts.append((code, row['name']))\n",
    "fashion_concepts = [(code, name) for code, name in fashion_concepts if '报预增' not in name]\n",
    "\n",
    "#根据指定的concept获取对应的龙头股票\n",
    "def get_head_stocks_on_concept(code, date):\n",
    "    concept_stocks=get_concept_stocks(concept_code=code,date=date)\n",
    "    df = get_fundamentals(query(\n",
    "        valuation.code, valuation.market_cap, valuation.pe_ratio, income.total_operating_revenue).filter(\n",
    "        valuation.code.in_(concept_stocks),\n",
    "        valuation.market_cap > 1000,\n",
    "        valuation.pe_ratio > 10,\n",
    "        income.total_operating_revenue > 2e9).order_by(valuation.market_cap.desc()), date=date)\n",
    "    #返回df的top3\n",
    "    return df.head(3)\n",
    "\n",
    "date = '2025-05-08'\n",
    "all_heads = []\n",
    "for code, name in fashion_concepts:\n",
    "    df = get_head_stocks_on_concept(code, date)\n",
    "    if df is not None and not df.empty:\n",
    "        df['concept_code'] = code\n",
    "        df['concept_name'] = name\n",
    "        all_heads.append(df)\n",
    "\n",
    "if all_heads:\n",
    "    result_df = pd.concat(all_heads, ignore_index=True)\n",
    "    print(result_df)\n",
    "    # 写入文件，每行格式为 code,concept_code\n",
    "    lines = [f\"{row['code']},{row['concept_code']}\" for _, row in result_df.iterrows()]\n",
    "    write_file('dragon_equity_list.txt', '\\n'.join(lines))\n",
    "else:\n",
    "    print(\"没有筛选出龙头股\")\n",
    "\n"
   ]
  }
 ],
 "metadata": {
  "language_info": {
   "name": "python"
  }
 },
 "nbformat": 4,
 "nbformat_minor": 2
}
