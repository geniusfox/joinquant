{
 "cells": [
  {
   "cell_type": "code",
   "execution_count": null,
   "metadata": {},
   "outputs": [],
   "source": [
    "from comprehensive_selection import *\n",
    "\n",
    "from jqdata import *\n",
    "import pandas as pd\n",
    "# 获取当前日期和时间\n",
    "current_datetime = datetime.datetime.now()\n",
    "current_date = current_datetime.strftime('%Y-%m-%d')\n",
    "\n",
    "# 获取所有交易日\n",
    "trade_dates = get_trade_days(end_date=current_date, count=2)\n",
    "\n",
    "# 获取当前时间的小时\n",
    "current_hour = current_datetime.hour\n",
    "\n",
    "# 将日期转换为字符串格式\n",
    "last_trade_date = trade_dates[-1].strftime('%Y-%m-%d')\n",
    "first_trade_date = trade_dates[0].strftime('%Y-%m-%d')\n",
    "\n",
    "# 判断最后交易日是否为当天且时间是否在16:00前\n",
    "if last_trade_date == current_date and current_hour < 16:\n",
    "    specified_date = first_trade_date\n",
    "else:\n",
    "    specified_date = last_trade_date\n",
    "\n",
    "\n",
    "\n"
   ]
  },
  {
   "cell_type": "code",
   "execution_count": null,
   "metadata": {},
   "outputs": [],
   "source": [
    "# 对每个交易日运行选股策略\n",
    "for date in [specified_date]:\n",
    "    print(f\"\\n=== {date} 的选股结果 ===\")\n",
    "    result = run_stock_selection(date)\n",
    "    print(f\"筛选的股票代码：{result}\")"
   ]
  },
  {
   "cell_type": "code",
   "execution_count": null,
   "metadata": {},
   "outputs": [],
   "source": [
    "# 从daily_bottom_finder模块导入所需的函数和类\n",
    "from candle_stick_ananly import (\n",
    "    get_low_and_high\n",
    ")\n",
    "\n",
    "# 计算每个交易日股票的入场价格\n",
    "for date in [specified_date]:\n",
    "    # 指定要分析的股票代码列表\n",
    "    stock_codes = get_stocks_by_date(date)\n",
    "    \n",
    "    # 获取当日股票数据\n",
    "    df = get_low_and_high(date, stock_codes)\n",
    "    # 保存分析结果到数据库\n",
    "    os.makedirs('daily_rs', exist_ok=True)\n",
    "    conn = init_database()\n",
    "    save_low_and_high(conn,df, date)\n",
    "    conn.close()\n",
    "\n",
    "    # 选择需要显示的列\n",
    "    display_cols = ['lc', 'ld', 'lx', 'la']\n",
    "    \n",
    "    # 创建结果DataFrame\n",
    "    result_df = pd.DataFrame(index=df.index)\n",
    "    result_df.index.name = 'security'\n",
    "    \n",
    "    # 复制选定的列\n",
    "    for col in display_cols:\n",
    "        result_df[col] = df[col]\n",
    "    \n",
    "    # 计算目标价格\n",
    "    result_df['target_price'] = result_df['la'] * 1.05\n",
    "    # 设置列名\n",
    "    result_df.columns = ['底C', '底D', '底X', '入场价', '目标价']\n",
    "    # 格式化输出\n",
    "    pd.set_option('display.float_format', lambda x: '%.2f' % x)\n",
    "    \n",
    "    print(result_df)"
   ]
  }
 ],
 "metadata": {
  "kernelspec": {
   "display_name": "Python 3",
   "language": "python",
   "name": "python3"
  },
  "language_info": {
   "name": "python",
   "version": "3.13.1"
  }
 },
 "nbformat": 4,
 "nbformat_minor": 2
}
